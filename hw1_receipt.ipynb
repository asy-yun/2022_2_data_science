{
 "cells": [
  {
   "cell_type": "markdown",
   "id": "3770ac44-21bf-4228-bc3c-55fdcff1e975",
   "metadata": {
    "tags": []
   },
   "source": [
    "## hw1_receipt"
   ]
  },
  {
   "cell_type": "code",
   "execution_count": 24,
   "id": "fb907eda-5288-4142-8cb6-d3af7b07b4fe",
   "metadata": {},
   "outputs": [],
   "source": [
    "lovely_loveseat_description = \"Lovely Loveseat. Tufted polyester blend on wood. 32 inches high x 40 inches wide x 30 inches deep. Red or white.\"\n",
    "lovely_loveseat_price = 254.00\n",
    "\n",
    "stylish_settee_description = \"Stylish Settee. Faux leather on birch. 29.50 inches high x 54.75 inches wide x 28 inches deep. Black.\"\n",
    "stylish_settee_price = 180.50\n",
    "\n",
    "luxurious_lamp_description = \"Luxurious Lamp. Glass and iron. 36 inches tall. Brown with cream shade.\"\n",
    "luxurious_lamp_price = 52.15\n",
    "\n",
    "sales_tax = .088"
   ]
  },
  {
   "cell_type": "code",
   "execution_count": 25,
   "id": "46335a9b-3683-4bc8-a040-26310f61c39a",
   "metadata": {},
   "outputs": [],
   "source": [
    "customer_one_total = 0\n",
    "customer_one_itemization = \"\"\n",
    "\n",
    "customer_one_total += lovely_loveseat_price\n",
    "customer_one_itemization += lovely_loveseat_description\n",
    "\n",
    "customer_one_total += luxurious_lamp_price\n",
    "customer_one_itemization += luxurious_lamp_description\n",
    "\n",
    "customer_one_tax = customer_one_total * sales_tax\n",
    "customer_one_total += customer_one_tax"
   ]
  },
  {
   "cell_type": "code",
   "execution_count": 30,
   "id": "d8f2ed47-6e0a-4f5f-89a1-555469ffeb7c",
   "metadata": {},
   "outputs": [
    {
     "name": "stdout",
     "output_type": "stream",
     "text": [
      "Customer One Items:\n",
      "Lovely Loveseat. Tufted polyester blend on wood. 32 inches high x 40 inches wide x 30 inches deep. Red or white.Luxurious Lamp. Glass and iron. 36 inches tall. Brown with cream shade.\n",
      "Customer One Total:\n",
      "333.09119999999996\n"
     ]
    }
   ],
   "source": [
    "print(\"Customer One Items:\")\n",
    "print(customer_one_itemization)\n",
    "print(\"Customer One Total:\")\n",
    "print(customer_one_total)"
   ]
  }
 ],
 "metadata": {
  "kernelspec": {
   "display_name": "Python 3 (ipykernel)",
   "language": "python",
   "name": "python3"
  },
  "language_info": {
   "codemirror_mode": {
    "name": "ipython",
    "version": 3
   },
   "file_extension": ".py",
   "mimetype": "text/x-python",
   "name": "python",
   "nbconvert_exporter": "python",
   "pygments_lexer": "ipython3",
   "version": "3.9.12"
  }
 },
 "nbformat": 4,
 "nbformat_minor": 5
}
