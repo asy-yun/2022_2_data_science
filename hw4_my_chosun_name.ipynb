{
 "cells": [
  {
   "cell_type": "markdown",
   "id": "fee045b7-f496-4b03-baf0-4c8937003c10",
   "metadata": {},
   "source": [
    "## hw4_my_chosun_name"
   ]
  },
  {
   "cell_type": "code",
   "execution_count": 9,
   "id": "5ccdb25a-8ac7-4b0b-ad01-2afd55e5b7e4",
   "metadata": {},
   "outputs": [
    {
     "name": "stdout",
     "output_type": "stream",
     "text": [
      "당신의 조선시대 이름은 안칠단입니다.\n"
     ]
    }
   ],
   "source": [
    "cho_month=['쌍', '쇠', '복', '돌', '팽', '육', '쌍', '개', '칠', '갑', '삼', '방']\n",
    "cho_day=['봉', '구', '욕', '포', '똥', '삼', '식', '석', '놈', '님', '년', '돌', '단', '득', '방', '질', '장', '걸', '래', '룡', '동', '순', '자', '박', '창', '언', '것', '포', '만', '단', '국']\n",
    "    \n",
    "def get_my_chosun_name(family_name, month, day):\n",
    "    my_month = cho_month[month-1]\n",
    "    my_day = cho_day[day-1]\n",
    "    print(\"당신의 조선시대 이름은 %c%c%c입니다.\" %(family_name, my_month, my_day))\n",
    "    \n",
    "get_my_chosun_name('안', 9, 13)"
   ]
  }
 ],
 "metadata": {
  "kernelspec": {
   "display_name": "Python 3 (ipykernel)",
   "language": "python",
   "name": "python3"
  },
  "language_info": {
   "codemirror_mode": {
    "name": "ipython",
    "version": 3
   },
   "file_extension": ".py",
   "mimetype": "text/x-python",
   "name": "python",
   "nbconvert_exporter": "python",
   "pygments_lexer": "ipython3",
   "version": "3.9.12"
  }
 },
 "nbformat": 4,
 "nbformat_minor": 5
}
